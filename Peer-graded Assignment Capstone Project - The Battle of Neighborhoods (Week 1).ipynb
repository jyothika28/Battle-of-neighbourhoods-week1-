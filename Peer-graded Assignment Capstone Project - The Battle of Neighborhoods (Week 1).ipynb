{
 "cells": [
  {
   "cell_type": "markdown",
   "metadata": {},
   "source": [
    "<h1><b>Peer-graded Assignment: Capstone Project - The Battle of Neighborhoods (Week 1)</b></h1>"
   ]
  },
  {
   "cell_type": "markdown",
   "metadata": {},
   "source": [
    "<h1>Introduction/Business Problem </h1>"
   ]
  },
  {
   "cell_type": "markdown",
   "metadata": {},
   "source": [
    "The Business problem to be discussed here is that to setup a business of any kind whether it can be related to clothing,restaurant,Grocery store or a pharmacy store and the list can go on.To establish something which is related to business you just can't establish in whichever place you want if profit and success matters to you.There are some particular/important areas and statistics based on the region or otherwise that are needed to be taken care of for the success of the business.For Example:Population of the particular area can really effect the business.There are many important areas which are to be concentrated such as quality,stock,price affordability.Every customer just keeps price affordability and quality because the customer compares price with another store.The price should be neither high nor too low.To establish a business there should be uniqueness in the product or products depending on the type of product.The problem to be solved here is Where to establish a business and what criteria should be used to solve this problem and how to increase the number of stakeholders to acquire profits in the business?"
   ]
  },
  {
   "cell_type": "markdown",
   "metadata": {},
   "source": [
    "<h1> Data section/Solution </h1>\n"
   ]
  },
  {
   "cell_type": "markdown",
   "metadata": {},
   "source": [
    "Data scientist and Data science plays a very crucial role in this aspect.To solve the above problem there are many techniques in data science which give clear and clean statistics and show you the right solution for the problem mentioned above.In this problem we'll also use foursquare location application to get the data about the searched location.We can directly put in the address and search for the nearby stores their details their ratings etc.But as we are going to map the data we use jupyter notebook using python.We query for the foursquare location with respective client_id,client_secret,version to obtain the results.The results we get will be in the form of json file and we have to convert it into pandas dataframe for easier access of the values and manipulate the data for good results.  \n",
    "\n",
    "<b>Packages that are to be imported are:</b> \n",
    "\n",
    "1.geopy package for convert an address into latitude and longitude values of the particular location.\n",
    "\n",
    "2.requests package to handle requests.\n",
    "\n",
    "3.folium to map rendering library.\n",
    "\n",
    "4.json to handle JSON files.\n",
    "\n",
    "5.KMeans clustering form sklearn to cluster similar kind of data.\n",
    "\n",
    "6.matplotlib to plot modules.\n",
    "\n",
    "7.pandas to convert data into a dataframe and numpy to handle data in a vectorized manner.\n",
    "\n",
    "8.Json_normalize to tranform JSON file into a pandas dataframe\n",
    "\n",
    "After gathering all the information/data about the particular location we perform queries and clustering techniques and we choose which location is appropriate for us to establish business in preferred location.\n",
    "\n",
    "In this aspect we use newyork data set transfer it into a dataframe obtain nearby stores in the location and cluster them to obtain the results and choose the appropriate location where we can establish the business.\n",
    "To establish a business many things should be considered and then take a forward step because if there is huge success then more branches can be established otherwise there will be huge loss."
   ]
  },
  {
   "cell_type": "code",
   "execution_count": null,
   "metadata": {},
   "outputs": [],
   "source": []
  }
 ],
 "metadata": {
  "kernelspec": {
   "display_name": "Python 3",
   "language": "python",
   "name": "python3"
  },
  "language_info": {
   "codemirror_mode": {
    "name": "ipython",
    "version": 3
   },
   "file_extension": ".py",
   "mimetype": "text/x-python",
   "name": "python",
   "nbconvert_exporter": "python",
   "pygments_lexer": "ipython3",
   "version": "3.6.5"
  }
 },
 "nbformat": 4,
 "nbformat_minor": 2
}
